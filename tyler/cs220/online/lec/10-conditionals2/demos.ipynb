{
 "cells": [
  {
   "cell_type": "code",
   "execution_count": null,
   "metadata": {},
   "outputs": [],
   "source": [
    "# 1 => Jan\n",
    "def fmonth(num):\n",
    "    if num == 1:\n",
    "        return \"Jan\"\n",
    "    elif num == 2:\n",
    "        return \"Feb\"\n",
    "    elif num == 3:\n",
    "        return \"Mar\"\n",
    "    elif num == 4:\n",
    "        return \"Apr\"\n",
    "    elif num == 5:\n",
    "        return \"May\"\n",
    "    elif num == 6:\n",
    "        return \"Jun\"\n",
    "    elif num == 7:\n",
    "        return \"Jul\"\n",
    "    elif num == 8:\n",
    "        return \"Aug\"\n",
    "    elif num == 9:\n",
    "        return \"Sep\"\n",
    "    elif num == 10:\n",
    "        return \"Oct\"\n",
    "    elif num == 11:\n",
    "        return \"Nov\"\n",
    "    elif num == 12:\n",
    "        return \"Dec\"\n",
    "    else:\n",
    "        return \"error, bad month num!\"\n",
    "\n",
    "fmonth(3)"
   ]
  },
  {
   "cell_type": "code",
   "execution_count": null,
   "metadata": {},
   "outputs": [],
   "source": [
    "# 1 => 1st, 2 => 2nd\n",
    "def fnum(num):\n",
    "    if num < 0 or num > 99:\n",
    "        return \"not supported\"\n",
    "\n",
    "    second_digit = num % 10\n",
    "    if 10 < num < 20:\n",
    "        return str(num) + \"th\"\n",
    "    elif second_digit == 1:\n",
    "        return str(num) + \"st\"\n",
    "    elif second_digit == 2:\n",
    "        return str(num) + \"nd\"\n",
    "    elif second_digit == 3:\n",
    "        return str(num) + \"rd\"\n",
    "    else:\n",
    "        return str(num) + \"th\"\n",
    "\n",
    "fnum(12)"
   ]
  },
  {
   "cell_type": "code",
   "execution_count": null,
   "metadata": {},
   "outputs": [],
   "source": [
    "def fdate(month, day, year):\n",
    "    if year < 100:\n",
    "        year += 2000\n",
    "    return fmonth(month) + \" \" + fnum(day) + \" of \" + str(year)\n",
    "\n",
    "fdate(11, 12, 20)"
   ]
  },
  {
   "cell_type": "code",
   "execution_count": null,
   "metadata": {},
   "outputs": [],
   "source": [
    "import random\n",
    "\n",
    "def add_test(x, y):\n",
    "    answer = input(\"What is \" + str(x) + \" + \" + str(y) + \"?   \")\n",
    "    answer = int(answer)\n",
    "    expected = x + y\n",
    "    diff = abs(answer - expected)\n",
    "    if diff == 0:\n",
    "        return 1\n",
    "    elif diff <= 1:\n",
    "        return 0.5\n",
    "    return 0\n",
    "\n",
    "score = 0\n",
    "score += add_test(random.randint(1, 5), random.randint(1, 5))\n",
    "score += add_test(random.randint(1, 5), random.randint(1, 5))\n",
    "score += add_test(random.randint(1, 5), random.randint(1, 5))\n",
    "score += add_test(random.randint(1, 5), random.randint(1, 5))\n",
    "score += add_test(random.randint(1, 5), random.randint(1, 5))\n",
    "print(\"TOTAL:\", score)"
   ]
  }
 ],
 "metadata": {
  "kernelspec": {
   "display_name": "Python 3",
   "language": "python",
   "name": "python3"
  },
  "language_info": {
   "codemirror_mode": {
    "name": "ipython",
    "version": 3
   },
   "file_extension": ".py",
   "mimetype": "text/x-python",
   "name": "python",
   "nbconvert_exporter": "python",
   "pygments_lexer": "ipython3",
   "version": "3.7.2"
  }
 },
 "nbformat": 4,
 "nbformat_minor": 2
}
