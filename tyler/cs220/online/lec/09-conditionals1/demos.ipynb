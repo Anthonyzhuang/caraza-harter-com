{
 "cells": [
  {
   "cell_type": "code",
   "execution_count": 1,
   "metadata": {},
   "outputs": [
    {
     "name": "stdout",
     "output_type": "stream",
     "text": [
      "3\n"
     ]
    }
   ],
   "source": [
    "def absolute_v1(x):\n",
    "    return (x ** 2) ** 0.5\n",
    "\n",
    "def absolute_v2(x):\n",
    "    if x < 0:\n",
    "        x = -x\n",
    "    return x\n",
    "    \n",
    "def absolute_v3(x):\n",
    "    if x < 0:\n",
    "        return -x\n",
    "    else:\n",
    "        return x\n",
    "        \n",
    "def absolute_v4(x):\n",
    "    if x < 0:\n",
    "        return -x\n",
    "    return x\n",
    "\n",
    "print(absolute_v4(-3))"
   ]
  },
  {
   "cell_type": "code",
   "execution_count": 23,
   "metadata": {},
   "outputs": [
    {
     "name": "stdout",
     "output_type": "stream",
     "text": [
      "1.5\n"
     ]
    }
   ],
   "source": [
    "def f(x):\n",
    "    if x < -2:\n",
    "        return 2\n",
    "    elif x < 0:\n",
    "        return -x\n",
    "    else:\n",
    "        return int(x)\n",
    "\n",
    "# what negative number results in a bug?\n",
    "print(f(-1.5))"
   ]
  },
  {
   "cell_type": "code",
   "execution_count": 31,
   "metadata": {},
   "outputs": [
    {
     "data": {
      "text/plain": [
       "'hit the gas'"
      ]
     },
     "execution_count": 31,
     "metadata": {},
     "output_type": "execute_result"
    }
   ],
   "source": [
    "def stoplight(color, feet):\n",
    "    if color == \"green\":\n",
    "        return \"smile\"\n",
    "    elif color == \"yellow\":\n",
    "        if feet < 30:\n",
    "            return \"continue at same speed\"\n",
    "        else:\n",
    "            return \"stop\"\n",
    "    elif color == \"red\":\n",
    "        if feet < 15:\n",
    "            return \"hit the gas\"\n",
    "        else:\n",
    "            return \"stop abruptly\"\n",
    "    else:\n",
    "        return \"the light is broken!!!\"\n",
    "        \n",
    "stoplight(\"red\", 10)"
   ]
  },
  {
   "cell_type": "code",
   "execution_count": null,
   "metadata": {},
   "outputs": [],
   "source": []
  }
 ],
 "metadata": {
  "kernelspec": {
   "display_name": "Python 3",
   "language": "python",
   "name": "python3"
  },
  "language_info": {
   "codemirror_mode": {
    "name": "ipython",
    "version": 3
   },
   "file_extension": ".py",
   "mimetype": "text/x-python",
   "name": "python",
   "nbconvert_exporter": "python",
   "pygments_lexer": "ipython3",
   "version": "3.7.2"
  }
 },
 "nbformat": 4,
 "nbformat_minor": 2
}
