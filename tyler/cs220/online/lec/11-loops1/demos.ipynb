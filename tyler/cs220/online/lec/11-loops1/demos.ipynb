{
 "cells": [
  {
   "cell_type": "markdown",
   "metadata": {},
   "source": [
    "# Example: Table"
   ]
  },
  {
   "cell_type": "code",
   "execution_count": 1,
   "metadata": {},
   "outputs": [
    {
     "name": "stdout",
     "output_type": "stream",
     "text": [
      " # # # # # # # # # #\n",
      "# # # # # # # # # # \n",
      " # # # # # # # # # #\n",
      "# # # # # # # # # # \n",
      " # # # # # # # # # #\n"
     ]
    }
   ],
   "source": [
    "def checkerboard(width, height):\n",
    "    for y in range(height):\n",
    "        for x in range(width):\n",
    "            if (x+y) % 2 == 1:\n",
    "                print(\"#\", end=\"\")\n",
    "            else:\n",
    "                print(\" \", end=\"\")\n",
    "        print() # newline\n",
    "        \n",
    "checkerboard(20, 5)"
   ]
  },
  {
   "cell_type": "code",
   "execution_count": 2,
   "metadata": {},
   "outputs": [
    {
     "name": "stdout",
     "output_type": "stream",
     "text": [
      " # # #\n",
      "# # # \n",
      " # # #\n",
      "# # # \n",
      " # # #\n",
      "# # # \n",
      " # # #\n",
      "# # # \n",
      " # # #\n",
      "# # # \n",
      " # # #\n",
      "# # # \n",
      " # # #\n",
      "# # # \n",
      " # # #\n"
     ]
    }
   ],
   "source": [
    "checkerboard(6, 15)"
   ]
  },
  {
   "cell_type": "code",
   "execution_count": 3,
   "metadata": {},
   "outputs": [
    {
     "data": {
      "text/plain": [
       "5"
      ]
     },
     "execution_count": 3,
     "metadata": {},
     "output_type": "execute_result"
    }
   ],
   "source": [
    "def f(x):\n",
    "    y = 5 - (x-2) ** 2\n",
    "    return y\n",
    "\n",
    "f(2)"
   ]
  },
  {
   "cell_type": "code",
   "execution_count": 4,
   "metadata": {},
   "outputs": [
    {
     "name": "stdout",
     "output_type": "stream",
     "text": [
      "1.9995\n",
      "4.99999975\n"
     ]
    }
   ],
   "source": [
    "low = 0\n",
    "high = 15\n",
    "checks = 10000\n",
    "best_y_yet = None\n",
    "best_x_yet = None\n",
    "\n",
    "for i in range(checks):\n",
    "    percent = i / checks\n",
    "    x = low + (high - low) * percent\n",
    "    y = f(x)\n",
    "    if best_y_yet == None or y > best_y_yet:\n",
    "        best_y_yet = y\n",
    "        best_x_yet = x\n",
    "print(best_x_yet)\n",
    "print(best_y_yet)"
   ]
  },
  {
   "cell_type": "code",
   "execution_count": 5,
   "metadata": {},
   "outputs": [
    {
     "data": {
      "text/plain": [
       "1.7320508075688772"
      ]
     },
     "execution_count": 5,
     "metadata": {},
     "output_type": "execute_result"
    }
   ],
   "source": [
    "import math\n",
    "\n",
    "# gives curve for our quarter circle\n",
    "def f(x):\n",
    "    radius = 2\n",
    "    a = math.acos(x / radius)\n",
    "    y = math.sin(a) * radius\n",
    "    return y\n",
    "\n",
    "f(1)"
   ]
  },
  {
   "cell_type": "code",
   "execution_count": 6,
   "metadata": {},
   "outputs": [
    {
     "name": "stdout",
     "output_type": "stream",
     "text": [
      "3.141791477611317\n"
     ]
    }
   ],
   "source": [
    "total_width = 2 # go from 0 to this\n",
    "rects = 10000\n",
    "total_area = 0\n",
    "# loop over the tiny rectangles\n",
    "for i in range(rects):\n",
    "    percent = i / rects\n",
    "    x = total_width * percent\n",
    "    rect_width = total_width / rects\n",
    "    rect_height = f(x)\n",
    "    rect_area = rect_width * rect_height\n",
    "    total_area += rect_area\n",
    "print(total_area) # hopefully about 3.14159..."
   ]
  },
  {
   "cell_type": "code",
   "execution_count": 7,
   "metadata": {},
   "outputs": [],
   "source": [
    "import random"
   ]
  },
  {
   "cell_type": "code",
   "execution_count": 8,
   "metadata": {},
   "outputs": [
    {
     "data": {
      "text/plain": [
       "8"
      ]
     },
     "execution_count": 8,
     "metadata": {},
     "output_type": "execute_result"
    }
   ],
   "source": [
    "def roll():\n",
    "    roll1 = random.randint(1, 6)\n",
    "    roll2 = random.randint(1, 6)\n",
    "    return roll1 + roll2\n",
    "roll()"
   ]
  },
  {
   "cell_type": "code",
   "execution_count": 9,
   "metadata": {},
   "outputs": [
    {
     "name": "stdout",
     "output_type": "stream",
     "text": [
      "6.996321\n"
     ]
    }
   ],
   "source": [
    "how_many = 1000000\n",
    "total = 0\n",
    "for i in range(how_many):\n",
    "    total += roll()\n",
    "\n",
    "avg = total / how_many\n",
    "print(avg)"
   ]
  }
 ],
 "metadata": {
  "kernelspec": {
   "display_name": "Python 3",
   "language": "python",
   "name": "python3"
  },
  "language_info": {
   "codemirror_mode": {
    "name": "ipython",
    "version": 3
   },
   "file_extension": ".py",
   "mimetype": "text/x-python",
   "name": "python",
   "nbconvert_exporter": "python",
   "pygments_lexer": "ipython3",
   "version": "3.7.2"
  }
 },
 "nbformat": 4,
 "nbformat_minor": 2
}
