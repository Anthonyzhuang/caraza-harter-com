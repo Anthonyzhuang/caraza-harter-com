{
 "cells": [
  {
   "cell_type": "code",
   "execution_count": 1,
   "metadata": {},
   "outputs": [],
   "source": [
    "import csv\n",
    "\n",
    "# copied from https://automatetheboringstuff.com/chapter14/\n",
    "def process_csv(filename):\n",
    "    exampleFile = open(filename, encoding=\"utf-8\")\n",
    "    exampleReader = csv.reader(exampleFile)\n",
    "    exampleData = list(exampleReader)\n",
    "    exampleFile.close()\n",
    "    return exampleData"
   ]
  },
  {
   "cell_type": "code",
   "execution_count": 7,
   "metadata": {},
   "outputs": [
    {
     "data": {
      "text/plain": [
       "0"
      ]
     },
     "execution_count": 7,
     "metadata": {},
     "output_type": "execute_result"
    }
   ],
   "source": [
    "data = process_csv(\"tornados.csv\")\n",
    "header = data[0]\n",
    "rows = data[1:]\n",
    "name_idx = header.index(\"year\")\n",
    "name_idx"
   ]
  },
  {
   "cell_type": "code",
   "execution_count": 26,
   "metadata": {},
   "outputs": [],
   "source": [
    "# key: the year, val: how many tornados in that year?\n",
    "tcounts = {1998: 0}\n",
    "\n",
    "for row in rows:\n",
    "    year = int(row[name_idx])\n",
    "    if not year in tcounts:\n",
    "        tcounts[year] = 0\n",
    "    tcounts[year] += 1"
   ]
  },
  {
   "cell_type": "code",
   "execution_count": 27,
   "metadata": {},
   "outputs": [
    {
     "name": "stdout",
     "output_type": "stream",
     "text": [
      "1998: 5\n",
      "1999: 5\n",
      "2011: 1\n",
      "2007: 1\n",
      "2004: 3\n",
      "2005: 5\n",
      "2002: 1\n",
      "2013: 3\n",
      "2001: 3\n",
      "2010: 1\n",
      "2017: 4\n",
      "1996: 2\n",
      "2012: 3\n",
      "2014: 1\n",
      "2009: 2\n",
      "2000: 2\n",
      "1997: 3\n",
      "2015: 2\n",
      "2003: 3\n",
      "2006: 2\n"
     ]
    }
   ],
   "source": [
    "for year in tcounts: # loop over the keys (in SOME order)\n",
    "    how_many = tcounts[year]\n",
    "    print(str(year) + \": \" + str(how_many))"
   ]
  }
 ],
 "metadata": {
  "kernelspec": {
   "display_name": "Python 3",
   "language": "python",
   "name": "python3"
  },
  "language_info": {
   "codemirror_mode": {
    "name": "ipython",
    "version": 3
   },
   "file_extension": ".py",
   "mimetype": "text/x-python",
   "name": "python",
   "nbconvert_exporter": "python",
   "pygments_lexer": "ipython3",
   "version": "3.7.2"
  }
 },
 "nbformat": 4,
 "nbformat_minor": 2
}
