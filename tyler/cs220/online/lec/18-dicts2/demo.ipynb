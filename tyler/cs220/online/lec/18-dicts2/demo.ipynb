{
 "cells": [
  {
   "cell_type": "code",
   "execution_count": 1,
   "metadata": {},
   "outputs": [],
   "source": [
    "import csv\n",
    "\n",
    "# copied from https://automatetheboringstuff.com/chapter14/\n",
    "def process_csv(filename):\n",
    "    exampleFile = open(filename, encoding=\"utf-8\")\n",
    "    exampleReader = csv.reader(exampleFile)\n",
    "    exampleData = list(exampleReader)\n",
    "    exampleFile.close()\n",
    "    return exampleData"
   ]
  },
  {
   "cell_type": "code",
   "execution_count": 2,
   "metadata": {},
   "outputs": [],
   "source": [
    "data = process_csv(\"tornados.csv\")\n",
    "header = data[0]\n",
    "rows = data[1:]"
   ]
  },
  {
   "cell_type": "code",
   "execution_count": 3,
   "metadata": {},
   "outputs": [],
   "source": [
    "# Example 1: dict of lists"
   ]
  },
  {
   "cell_type": "code",
   "execution_count": 4,
   "metadata": {},
   "outputs": [
    {
     "name": "stdout",
     "output_type": "stream",
     "text": [
      "{1998: [145, 168, 257, 208, 216], 1999: [180, 110, 131, 234, 222], 2011: [102], 2007: [148], 2004: [156, 220, 283], 2005: [136, 110, 264, 261, 251], 2002: [286], 2013: [144, 145, 216], 2001: [256, 267, 226], 2010: [134], 2017: [299, 192, 131, 264], 1996: [282, 162], 2012: [176, 292, 272], 2014: [197], 2009: [223, 188], 2000: [196, 115], 1997: [209, 143, 162], 2015: [179, 137], 2003: [234, 271, 286], 2006: [141, 152]}\n"
     ]
    }
   ],
   "source": [
    "# key: year, value: list of speeds\n",
    "buckets = {}\n",
    "\n",
    "for row in rows:\n",
    "    year = int(row[header.index(\"year\")])\n",
    "    speed = int(row[header.index(\"speed\")])\n",
    "    #print(year, speed)\n",
    "    if not year in buckets:\n",
    "        buckets[year] = []\n",
    "    buckets[year].append(speed)\n",
    "print(buckets)"
   ]
  },
  {
   "cell_type": "code",
   "execution_count": 5,
   "metadata": {},
   "outputs": [
    {
     "data": {
      "text/plain": [
       "25.0"
      ]
     },
     "execution_count": 5,
     "metadata": {},
     "output_type": "execute_result"
    }
   ],
   "source": [
    "def median(nums):\n",
    "    nums = sorted(nums)\n",
    "    if len(nums) % 2 == 1:\n",
    "        return nums[len(nums) // 2]\n",
    "    return (nums[len(nums) // 2] + nums[len(nums) // 2 - 1]) / 2\n",
    "    \n",
    "median([40,30,10,20])"
   ]
  },
  {
   "cell_type": "code",
   "execution_count": 6,
   "metadata": {},
   "outputs": [
    {
     "name": "stdout",
     "output_type": "stream",
     "text": [
      "1996 222.0\n",
      "1997 162\n",
      "1998 208\n",
      "1999 180\n",
      "2000 155.5\n",
      "2001 256\n",
      "2002 286\n",
      "2003 271\n",
      "2004 220\n",
      "2005 251\n",
      "2006 146.5\n",
      "2007 148\n",
      "2009 205.5\n",
      "2010 134\n",
      "2011 102\n",
      "2012 272\n",
      "2013 145\n",
      "2014 197\n",
      "2015 158.0\n",
      "2017 228.0\n"
     ]
    }
   ],
   "source": [
    "for year in sorted(buckets.keys()):\n",
    "    speed_list = buckets[year]\n",
    "    print(year, median(speed_list))"
   ]
  },
  {
   "cell_type": "code",
   "execution_count": 7,
   "metadata": {},
   "outputs": [],
   "source": [
    "# Example 2: list of dicts"
   ]
  },
  {
   "cell_type": "code",
   "execution_count": 8,
   "metadata": {},
   "outputs": [
    {
     "data": {
      "text/plain": [
       "['year', 'id', 'location', 'speed']"
      ]
     },
     "execution_count": 8,
     "metadata": {},
     "output_type": "execute_result"
    }
   ],
   "source": [
    "header"
   ]
  },
  {
   "cell_type": "code",
   "execution_count": 9,
   "metadata": {},
   "outputs": [
    {
     "data": {
      "text/plain": [
       "['1998', 'BJFESWWE', 'site A', '145']"
      ]
     },
     "execution_count": 9,
     "metadata": {},
     "output_type": "execute_result"
    }
   ],
   "source": [
    "rows[0]"
   ]
  },
  {
   "cell_type": "code",
   "execution_count": 10,
   "metadata": {},
   "outputs": [
    {
     "data": {
      "text/plain": [
       "{'year': '1999', 'id': 'JZHRKTBN', 'location': 'site B', 'speed': '180'}"
      ]
     },
     "execution_count": 10,
     "metadata": {},
     "output_type": "execute_result"
    }
   ],
   "source": [
    "def dict_from_lists(key_list, val_list):\n",
    "    d = {}\n",
    "    for i in range(len(key_list)):\n",
    "        key = key_list[i]\n",
    "        val = val_list[i]\n",
    "        d[key] = val\n",
    "    return d\n",
    "\n",
    "dict_from_lists(key_list=header, val_list=rows[2])"
   ]
  },
  {
   "cell_type": "code",
   "execution_count": 11,
   "metadata": {},
   "outputs": [],
   "source": [
    "def transform_ld(header, row_list):\n",
    "    table = [] # list of dicts\n",
    "    for row in row_list:\n",
    "        new_row = dict_from_lists(header, row)\n",
    "        table.append(new_row)\n",
    "    return table\n",
    "tbl = transform_ld(header, rows)"
   ]
  },
  {
   "cell_type": "code",
   "execution_count": 12,
   "metadata": {},
   "outputs": [
    {
     "name": "stdout",
     "output_type": "stream",
     "text": [
      "site A\n",
      "site C\n",
      "site B\n",
      "site A\n",
      "site C\n"
     ]
    }
   ],
   "source": [
    "tbl[-1][\"year\"]\n",
    "for row in tbl[:5]:\n",
    "    print(row[\"location\"])"
   ]
  },
  {
   "cell_type": "code",
   "execution_count": 13,
   "metadata": {},
   "outputs": [
    {
     "data": {
      "text/plain": [
       "[{'year': '1998', 'id': 'BJFESWWE', 'location': 'site A', 'speed': '145'},\n",
       " {'year': '1998', 'id': 'QLSJNELC', 'location': 'site C', 'speed': '168'},\n",
       " {'year': '1999', 'id': 'JZHRKTBN', 'location': 'site B', 'speed': '180'}]"
      ]
     },
     "execution_count": 13,
     "metadata": {},
     "output_type": "execute_result"
    }
   ],
   "source": [
    "tbl[:3]"
   ]
  },
  {
   "cell_type": "code",
   "execution_count": 14,
   "metadata": {},
   "outputs": [],
   "source": [
    "# Example 3: dict of dicts"
   ]
  },
  {
   "cell_type": "code",
   "execution_count": 24,
   "metadata": {},
   "outputs": [],
   "source": [
    "def transform_dd(header, row_list, primary_key):\n",
    "    table = {} # dict of dicts\n",
    "    for row in row_list:\n",
    "        new_row = dict_from_lists(header, row)\n",
    "        key = new_row.pop(primary_key)\n",
    "        table[key] = new_row\n",
    "    return table\n",
    "\n",
    "tbl = transform_dd(header, rows, \"id\")"
   ]
  },
  {
   "cell_type": "code",
   "execution_count": 25,
   "metadata": {},
   "outputs": [
    {
     "data": {
      "text/plain": [
       "'site B'"
      ]
     },
     "execution_count": 25,
     "metadata": {},
     "output_type": "execute_result"
    }
   ],
   "source": [
    "tbl['JZHRKTBN'][\"location\"]"
   ]
  },
  {
   "cell_type": "code",
   "execution_count": 26,
   "metadata": {},
   "outputs": [
    {
     "data": {
      "text/plain": [
       "{'BJFESWWE': {'year': '1998', 'location': 'site A', 'speed': '145'},\n",
       " 'QLSJNELC': {'year': '1998', 'location': 'site C', 'speed': '168'},\n",
       " 'JZHRKTBN': {'year': '1999', 'location': 'site B', 'speed': '180'},\n",
       " 'OZOEHBGX': {'year': '2011', 'location': 'site A', 'speed': '102'},\n",
       " 'QSOCOONI': {'year': '2007', 'location': 'site C', 'speed': '148'},\n",
       " 'EGOHCOLN': {'year': '2004', 'location': 'site B', 'speed': '156'},\n",
       " 'DLGWTUJZ': {'year': '2005', 'location': 'site B', 'speed': '136'},\n",
       " 'VYXOICYF': {'year': '2002', 'location': 'site C', 'speed': '286'},\n",
       " 'DOHRNJHT': {'year': '2013', 'location': 'site A', 'speed': '144'},\n",
       " 'VTQZANCM': {'year': '2001', 'location': 'site A', 'speed': '256'},\n",
       " 'VZOWIHSS': {'year': '1998', 'location': 'site B', 'speed': '257'},\n",
       " 'PWTVQDNN': {'year': '2010', 'location': 'site A', 'speed': '134'},\n",
       " 'TAJIJXUI': {'year': '2017', 'location': 'site A', 'speed': '299'},\n",
       " 'DVGXTSMT': {'year': '1999', 'location': 'site B', 'speed': '110'},\n",
       " 'IVFEWBIR': {'year': '2005', 'location': 'site A', 'speed': '110'},\n",
       " 'DFYAXSKH': {'year': '1996', 'location': 'site C', 'speed': '282'},\n",
       " 'KZBRUFGO': {'year': '2017', 'location': 'site C', 'speed': '192'},\n",
       " 'JXCQICQE': {'year': '2012', 'location': 'site A', 'speed': '176'},\n",
       " 'YLITVIRD': {'year': '2014', 'location': 'site A', 'speed': '197'},\n",
       " 'XMDQQZMJ': {'year': '2005', 'location': 'site B', 'speed': '264'},\n",
       " 'ZOGUOKBV': {'year': '2009', 'location': 'site B', 'speed': '223'},\n",
       " 'ANIKWYZD': {'year': '2017', 'location': 'site C', 'speed': '131'},\n",
       " 'SCPZKTZE': {'year': '2013', 'location': 'site C', 'speed': '145'},\n",
       " 'QNSPIPVW': {'year': '2000', 'location': 'site A', 'speed': '196'},\n",
       " 'FNRMGOJW': {'year': '2009', 'location': 'site B', 'speed': '188'},\n",
       " 'NSCJYZQZ': {'year': '2017', 'location': 'site A', 'speed': '264'},\n",
       " 'UZAFVULO': {'year': '1997', 'location': 'site A', 'speed': '209'},\n",
       " 'EPDLAORK': {'year': '2015', 'location': 'site A', 'speed': '179'},\n",
       " 'UWKFBJJS': {'year': '2013', 'location': 'site C', 'speed': '216'},\n",
       " 'CGCKRBIS': {'year': '2003', 'location': 'site B', 'speed': '234'},\n",
       " 'OLSLXGSI': {'year': '1998', 'location': 'site B', 'speed': '208'},\n",
       " 'TTWIGHQA': {'year': '1999', 'location': 'site A', 'speed': '131'},\n",
       " 'FHODLPFV': {'year': '2005', 'location': 'site A', 'speed': '261'},\n",
       " 'TOLPPBLK': {'year': '1996', 'location': 'site C', 'speed': '162'},\n",
       " 'NCXVNRHO': {'year': '1998', 'location': 'site A', 'speed': '216'},\n",
       " 'EPLVRMEJ': {'year': '1997', 'location': 'site A', 'speed': '143'},\n",
       " 'QLSNCSDO': {'year': '1997', 'location': 'site B', 'speed': '162'},\n",
       " 'YJBBHOXQ': {'year': '2005', 'location': 'site C', 'speed': '251'},\n",
       " 'TGDHRBYX': {'year': '2015', 'location': 'site C', 'speed': '137'},\n",
       " 'ZKCQDWSL': {'year': '2001', 'location': 'site A', 'speed': '267'},\n",
       " 'YYFTHTOS': {'year': '2003', 'location': 'site A', 'speed': '271'},\n",
       " 'EPBPPLXI': {'year': '1999', 'location': 'site C', 'speed': '234'},\n",
       " 'MNVTZJKK': {'year': '1999', 'location': 'site A', 'speed': '222'},\n",
       " 'TLWECUJW': {'year': '2004', 'location': 'site A', 'speed': '220'},\n",
       " 'GKVOHKUL': {'year': '2001', 'location': 'site C', 'speed': '226'},\n",
       " 'BAYHOVXX': {'year': '2006', 'location': 'site B', 'speed': '141'},\n",
       " 'GFOODNOY': {'year': '2012', 'location': 'site C', 'speed': '292'},\n",
       " 'WYEGZHQK': {'year': '2000', 'location': 'site A', 'speed': '115'},\n",
       " 'YHXVGXZM': {'year': '2012', 'location': 'site A', 'speed': '272'},\n",
       " 'HWHGVCNQ': {'year': '2003', 'location': 'site C', 'speed': '286'},\n",
       " 'NYMWHKYP': {'year': '2006', 'location': 'site C', 'speed': '152'},\n",
       " 'ZHPJEVXU': {'year': '2004', 'location': 'site A', 'speed': '283'}}"
      ]
     },
     "execution_count": 26,
     "metadata": {},
     "output_type": "execute_result"
    }
   ],
   "source": [
    "tbl"
   ]
  },
  {
   "cell_type": "code",
   "execution_count": null,
   "metadata": {},
   "outputs": [],
   "source": []
  }
 ],
 "metadata": {
  "kernelspec": {
   "display_name": "Python 3",
   "language": "python",
   "name": "python3"
  },
  "language_info": {
   "codemirror_mode": {
    "name": "ipython",
    "version": 3
   },
   "file_extension": ".py",
   "mimetype": "text/x-python",
   "name": "python",
   "nbconvert_exporter": "python",
   "pygments_lexer": "ipython3",
   "version": "3.7.2"
  }
 },
 "nbformat": 4,
 "nbformat_minor": 2
}
