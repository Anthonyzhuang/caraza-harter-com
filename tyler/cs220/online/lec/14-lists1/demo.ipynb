{
 "cells": [
  {
   "cell_type": "code",
   "execution_count": 1,
   "metadata": {},
   "outputs": [
    {
     "name": "stdout",
     "output_type": "stream",
     "text": [
      "before: [5, 123, 321, 456, 2000]\n",
      "after: [5, 123, 456, 2000]\n"
     ]
    }
   ],
   "source": [
    "L = [1000, 123]\n",
    "L[0] = 2000\n",
    "L.append(456)\n",
    "# L.append([True,False]) # 1 item\n",
    "L.extend([5,321]) # 2 items\n",
    "L.sort()\n",
    "\n",
    "# pop removes a value\n",
    "# AND it returns that value\n",
    "print(\"before:\", L)\n",
    "x = L.pop(2)\n",
    "print(\"after:\", L)"
   ]
  },
  {
   "cell_type": "code",
   "execution_count": 12,
   "metadata": {},
   "outputs": [
    {
     "data": {
      "text/plain": [
       "3.0"
      ]
     },
     "execution_count": 12,
     "metadata": {},
     "output_type": "execute_result"
    }
   ],
   "source": [
    "def median(nums):\n",
    "    nums.sort()\n",
    "    mid_idx = len(nums) // 2\n",
    "    if len(nums) % 2 == 1:\n",
    "        return nums[mid_idx]\n",
    "    # else:\n",
    "    return (nums[mid_idx] + nums[mid_idx-1]) / 2\n",
    "    \n",
    "median([1,2,4,6,100,0])"
   ]
  },
  {
   "cell_type": "code",
   "execution_count": 28,
   "metadata": {},
   "outputs": [
    {
     "data": {
      "text/plain": [
       "'*** that ******* was awful'"
      ]
     },
     "execution_count": 28,
     "metadata": {},
     "output_type": "execute_result"
    }
   ],
   "source": [
    "def censor(dirty):\n",
    "    bad = [\"omg\", \"midterm\", \"darn\"]\n",
    "    words = dirty.split(\" \")\n",
    "    for i in range(len(words)):\n",
    "        word = words[i]\n",
    "        if word.lower() in bad:\n",
    "            words[i] = \"*\" * len(word)\n",
    "    return \" \".join(words)\n",
    "    \n",
    "censor(\"omg that MIDTERM was awful\")"
   ]
  }
 ],
 "metadata": {
  "kernelspec": {
   "display_name": "Python 3",
   "language": "python",
   "name": "python3"
  },
  "language_info": {
   "codemirror_mode": {
    "name": "ipython",
    "version": 3
   },
   "file_extension": ".py",
   "mimetype": "text/x-python",
   "name": "python",
   "nbconvert_exporter": "python",
   "pygments_lexer": "ipython3",
   "version": "3.7.2"
  }
 },
 "nbformat": 4,
 "nbformat_minor": 2
}
