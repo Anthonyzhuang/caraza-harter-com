{
 "cells": [
  {
   "cell_type": "markdown",
   "metadata": {},
   "source": [
    "# Lecture 4: Complexity and Big O"
   ]
  },
  {
   "cell_type": "code",
   "execution_count": 1,
   "metadata": {},
   "outputs": [],
   "source": [
    "import pandas as pd\n",
    "from pandas import Series\n",
    "import matplotlib\n",
    "from matplotlib import pyplot as plt\n",
    "from math import log2\n",
    "from time import time"
   ]
  },
  {
   "cell_type": "code",
   "execution_count": 2,
   "metadata": {},
   "outputs": [],
   "source": [
    "%matplotlib inline"
   ]
  },
  {
   "cell_type": "code",
   "execution_count": 3,
   "metadata": {},
   "outputs": [],
   "source": [
    "matplotlib.rcParams[\"font.size\"] = 20"
   ]
  },
  {
   "cell_type": "markdown",
   "metadata": {},
   "source": [
    "## Helper Functions"
   ]
  },
  {
   "cell_type": "code",
   "execution_count": 4,
   "metadata": {},
   "outputs": [],
   "source": [
    "def get_ax():\n",
    "    fig, ax = plt.subplots(figsize=(6,3))\n",
    "    ax.spines[\"right\"].set_visible(False)\n",
    "    ax.spines[\"top\"].set_visible(False)\n",
    "    ax.set_xlim(1, 10)\n",
    "    return ax\n",
    "\n",
    "def scale_ax():\n",
    "    ax = get_ax()\n",
    "    ax.set_xlabel(\"N (data size)\")\n",
    "    ax.set_ylabel(\"Steps\")\n",
    "    return ax\n",
    "\n",
    "def plot_func(f, ax, color=\"r\"):\n",
    "    f = f.upper()\n",
    "    start = ax.get_xlim()[0]\n",
    "    width = ax.get_xlim()[1] - ax.get_xlim()[0]\n",
    "    s = pd.Series(dtype=float)\n",
    "    for i in range(100):\n",
    "        N = start + width * (i+1)/100\n",
    "        s[N] = eval(f)\n",
    "    s.sort_index().plot(ax=ax, color=color)\n",
    "    plt.text(s.index[-1], s.iloc[-1], f, verticalalignment='center')"
   ]
  },
  {
   "cell_type": "markdown",
   "metadata": {},
   "source": [
    "# Example: Finding Primes"
   ]
  },
  {
   "cell_type": "code",
   "execution_count": 29,
   "metadata": {},
   "outputs": [],
   "source": [
    "# input size?  the number we want to check\n",
    "\n",
    "steps = 0\n",
    "\n",
    "def is_prime(N): # complexity?  O(N)\n",
    "    global steps\n",
    "    \n",
    "    prime = True\n",
    "    steps += 1\n",
    "    \n",
    "    for factor in range(2, N):\n",
    "        steps += 1\n",
    "        if N % factor == 0:\n",
    "            prime = False\n",
    "            steps += 1\n",
    "    steps += 1\n",
    "    return prime\n",
    "\n",
    "def find_primes(cap): # complexity? O(N**2)\n",
    "    global steps\n",
    "    \n",
    "    primes = []\n",
    "    steps += 1\n",
    "\n",
    "    for i in range(2,cap+1): # runs ~N times\n",
    "        steps += 1\n",
    "\n",
    "        if is_prime(i): # 1, 2, 3, ...., N ~= N/2\n",
    "            primes.append(i)\n",
    "            steps += 1\n",
    "    steps += 1\n",
    "    return primes\n",
    "\n",
    "s = pd.Series(dtype=int)\n",
    "for N in range(2,11):\n",
    "    rv = find_primes(N)\n",
    "    s.loc[N] = steps\n",
    "    steps = 0"
   ]
  },
  {
   "cell_type": "code",
   "execution_count": 31,
   "metadata": {},
   "outputs": [
    {
     "data": {
      "image/png": "[encoded data removed]",
      "text/plain": [
       "<Figure size 432x216 with 1 Axes>"
      ]
     },
     "metadata": {
      "needs_background": "light"
     },
     "output_type": "display_data"
    }
   ],
   "source": [
    "ax = scale_ax()\n",
    "s.plot.line(ax=ax, c=\"k\")\n",
    "plot_func(\"n**2\", ax)"
   ]
  },
  {
   "cell_type": "code",
   "execution_count": 2,
   "metadata": {},
   "outputs": [
    {
     "data": {
      "text/plain": [
       "(55, 55.0)"
      ]
     },
     "execution_count": 2,
     "metadata": {},
     "output_type": "execute_result"
    }
   ],
   "source": [
    "def add_v1(low, high):\n",
    "    nums = range(low, high+1)\n",
    "    total = 0\n",
    "    for num in nums:\n",
    "        total += num\n",
    "    return total\n",
    "\n",
    "def add_v2(low, high):\n",
    "    num_count = high-low+1\n",
    "    num_avg = (low+high) / 2\n",
    "    return num_count * num_avg\n",
    "\n",
    "add_v1(1,10), add_v2(1,10)"
   ]
  },
  {
   "cell_type": "code",
   "execution_count": 3,
   "metadata": {},
   "outputs": [
    {
     "data": {
      "text/plain": [
       "50.0"
      ]
     },
     "execution_count": 3,
     "metadata": {},
     "output_type": "execute_result"
    }
   ],
   "source": [
    "(10**2)/2"
   ]
  }
 ],
 "metadata": {
  "kernelspec": {
   "display_name": "Python 3",
   "language": "python",
   "name": "python3"
  },
  "language_info": {
   "codemirror_mode": {
    "name": "ipython",
    "version": 3
   },
   "file_extension": ".py",
   "mimetype": "text/x-python",
   "name": "python",
   "nbconvert_exporter": "python",
   "pygments_lexer": "ipython3",
   "version": "3.6.9"
  }
 },
 "nbformat": 4,
 "nbformat_minor": 4
}
