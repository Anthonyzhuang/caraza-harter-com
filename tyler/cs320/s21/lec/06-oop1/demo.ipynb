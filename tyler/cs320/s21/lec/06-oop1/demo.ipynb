{
 "cells": [
  {
   "cell_type": "markdown",
   "metadata": {},
   "source": [
    "1. object type\n",
    "2. type-based dispatch\n",
    "3. receivers (self)\n",
    "4. constructors (\\_\\_init\\_\\_)"
   ]
  },
  {
   "cell_type": "code",
   "execution_count": 3,
   "metadata": {},
   "outputs": [
    {
     "name": "stdout",
     "output_type": "stream",
     "text": [
      "Fido bark! bark! bark! bark! bark! \n"
     ]
    }
   ],
   "source": [
    "class Dog:\n",
    "    # constructor\n",
    "    def __init__(self, name, age):\n",
    "        self.name = name\n",
    "        self.age = age\n",
    "    \n",
    "    def is_puppy(self):\n",
    "        return self.age < 2\n",
    "    \n",
    "    def speak(self): # 1st param is \"receiver\"\n",
    "        if self.is_puppy():\n",
    "            print(self.name, \"bark! \" * 5)\n",
    "        elif self.age > 10:\n",
    "            print(self.name, \"grrrr\")\n",
    "        else:\n",
    "            print(self.name, \"bark\")\n",
    "            \n",
    "    def birthday(self, bday_count=1):\n",
    "        self.age += bday_count\n",
    "        \n",
    "dog1 = Dog(\"Fido\", 1) # instantiate AND initiate (call __init__)\n",
    "dog1.speak()"
   ]
  },
  {
   "cell_type": "code",
   "execution_count": null,
   "metadata": {},
   "outputs": [],
   "source": []
  }
 ],
 "metadata": {
  "kernelspec": {
   "display_name": "Python 3",
   "language": "python",
   "name": "python3"
  },
  "language_info": {
   "codemirror_mode": {
    "name": "ipython",
    "version": 3
   },
   "file_extension": ".py",
   "mimetype": "text/x-python",
   "name": "python",
   "nbconvert_exporter": "python",
   "pygments_lexer": "ipython3",
   "version": "3.6.9"
  }
 },
 "nbformat": 4,
 "nbformat_minor": 4
}
