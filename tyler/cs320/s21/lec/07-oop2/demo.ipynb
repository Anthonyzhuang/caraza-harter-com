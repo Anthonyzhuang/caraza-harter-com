{
 "cells": [
  {
   "cell_type": "code",
   "execution_count": 59,
   "metadata": {},
   "outputs": [],
   "source": [
    "class Dog:\n",
    "    def __init__(self, name, age):\n",
    "        self.name = name\n",
    "        self.age = age\n",
    "        \n",
    "    def speak(self, mult):\n",
    "        print(self.name + \": \" + \"bark!\")\n",
    "        \n",
    "    def __str__(self):\n",
    "        #return \"Dog named {} of age {}\".format(self.name, self.age)\n",
    "        return f\"Dog named {self.name} of age {self.age}\"\n",
    "    \n",
    "    def __repr__(self):\n",
    "        return f\"Dog({repr(self.name)}, {self.age})\"\n",
    "    \n",
    "    def _repr_html_(self):\n",
    "        return \"<h1>I AM A <i>DOG</i></h1>\"\n",
    "    \n",
    "    # return whether two objects are the \"same\"\n",
    "    def __eq__(self, other):\n",
    "        return self.name == other.name and self.age == other.age\n",
    "\n",
    "    # less than (needed for sorting)\n",
    "    def __lt__(self, other):\n",
    "        return self.age < other.age\n",
    "    # TODO: __le__, __gt__, __ge__\n",
    "    \n",
    "    \n",
    "fido = Dog(\"Fido\", 9)\n",
    "sam = Dog(\"Sam\", 3)"
   ]
  },
  {
   "cell_type": "code",
   "execution_count": 60,
   "metadata": {},
   "outputs": [
    {
     "data": {
      "text/plain": [
       "[Dog('Fido', 9), Dog('Sam', 3)]"
      ]
     },
     "execution_count": 60,
     "metadata": {},
     "output_type": "execute_result"
    }
   ],
   "source": [
    "dogs = [fido, sam]\n",
    "dogs"
   ]
  },
  {
   "cell_type": "code",
   "execution_count": 61,
   "metadata": {},
   "outputs": [
    {
     "data": {
      "text/plain": [
       "[Dog('Sam', 3), Dog('Fido', 9)]"
      ]
     },
     "execution_count": 61,
     "metadata": {},
     "output_type": "execute_result"
    }
   ],
   "source": [
    "sorted(dogs)"
   ]
  },
  {
   "cell_type": "markdown",
   "metadata": {},
   "source": [
    "<br><br><br><br><br><br><br><br><br>\n",
    "\n",
    "# Sequences from Scratch\n",
    "\n",
    "Things to do with sequences: len, index, slice, for loop, convert to list...\n",
    "\n",
    "some_object[?????] # what goes in the brackets?  What do we get back?"
   ]
  },
  {
   "cell_type": "code",
   "execution_count": 132,
   "metadata": {},
   "outputs": [
    {
     "data": {
      "text/plain": [
       "Range(3, 7)"
      ]
     },
     "execution_count": 132,
     "metadata": {},
     "output_type": "execute_result"
    }
   ],
   "source": [
    "class Range:\n",
    "    def __init__(self, bound1, bound2=None):\n",
    "        if bound2 == None:\n",
    "            self.lower = 0 # inclusive\n",
    "            self.upper = bound1 # exclusive\n",
    "        else:\n",
    "            self.lower = bound1\n",
    "            self.upper = bound2\n",
    "            \n",
    "    def __repr__(self):\n",
    "        return f\"Range({self.lower}, {self.upper})\"\n",
    "    \n",
    "    def __getitem__(self, lookup):\n",
    "        if type(lookup) != int:\n",
    "            raise NotImplementedError(\"only int index supported\")\n",
    "        if lookup < 0:\n",
    "            raise NotImplementedError(\"neg idx not supported\")\n",
    "        if lookup >= self.upper-self.lower:\n",
    "            raise IndexError(\"idx too big\")\n",
    "        return self.lower + lookup\n",
    "    \n",
    "    def __len__(self):\n",
    "        return self.upper - self.lower\n",
    "\n",
    "r1 = Range(3, 7)\n",
    "r1"
   ]
  },
  {
   "cell_type": "code",
   "execution_count": 134,
   "metadata": {},
   "outputs": [
    {
     "ename": "NotImplementedError",
     "evalue": "only int index supported",
     "output_type": "error",
     "traceback": [
      "\u001b[0;31m---------------------------------------------------------------------------\u001b[0m",
      "\u001b[0;31mNotImplementedError\u001b[0m                       Traceback (most recent call last)",
      "\u001b[0;32m<ipython-input-134-8cfdecf18244>\u001b[0m in \u001b[0;36m<module>\u001b[0;34m\u001b[0m\n\u001b[0;32m----> 1\u001b[0;31m \u001b[0mr1\u001b[0m\u001b[0;34m[\u001b[0m\u001b[0;34m\"key\"\u001b[0m\u001b[0;34m]\u001b[0m\u001b[0;34m\u001b[0m\u001b[0;34m\u001b[0m\u001b[0m\n\u001b[0m",
      "\u001b[0;32m<ipython-input-132-4acac7b30a44>\u001b[0m in \u001b[0;36m__getitem__\u001b[0;34m(self, lookup)\u001b[0m\n\u001b[1;32m     13\u001b[0m     \u001b[0;32mdef\u001b[0m \u001b[0m__getitem__\u001b[0m\u001b[0;34m(\u001b[0m\u001b[0mself\u001b[0m\u001b[0;34m,\u001b[0m \u001b[0mlookup\u001b[0m\u001b[0;34m)\u001b[0m\u001b[0;34m:\u001b[0m\u001b[0;34m\u001b[0m\u001b[0;34m\u001b[0m\u001b[0m\n\u001b[1;32m     14\u001b[0m         \u001b[0;32mif\u001b[0m \u001b[0mtype\u001b[0m\u001b[0;34m(\u001b[0m\u001b[0mlookup\u001b[0m\u001b[0;34m)\u001b[0m \u001b[0;34m!=\u001b[0m \u001b[0mint\u001b[0m\u001b[0;34m:\u001b[0m\u001b[0;34m\u001b[0m\u001b[0;34m\u001b[0m\u001b[0m\n\u001b[0;32m---> 15\u001b[0;31m             \u001b[0;32mraise\u001b[0m \u001b[0mNotImplementedError\u001b[0m\u001b[0;34m(\u001b[0m\u001b[0;34m\"only int index supported\"\u001b[0m\u001b[0;34m)\u001b[0m\u001b[0;34m\u001b[0m\u001b[0;34m\u001b[0m\u001b[0m\n\u001b[0m\u001b[1;32m     16\u001b[0m         \u001b[0;32mif\u001b[0m \u001b[0mlookup\u001b[0m \u001b[0;34m<\u001b[0m \u001b[0;36m0\u001b[0m\u001b[0;34m:\u001b[0m\u001b[0;34m\u001b[0m\u001b[0;34m\u001b[0m\u001b[0m\n\u001b[1;32m     17\u001b[0m             \u001b[0;32mraise\u001b[0m \u001b[0mNotImplementedError\u001b[0m\u001b[0;34m(\u001b[0m\u001b[0;34m\"neg idx not supported\"\u001b[0m\u001b[0;34m)\u001b[0m\u001b[0;34m\u001b[0m\u001b[0;34m\u001b[0m\u001b[0m\n",
      "\u001b[0;31mNotImplementedError\u001b[0m: only int index supported"
     ]
    }
   ],
   "source": [
    "r1[\"key\"]"
   ]
  },
  {
   "cell_type": "markdown",
   "metadata": {},
   "source": [
    "# Exercises"
   ]
  },
  {
   "cell_type": "code",
   "execution_count": 1,
   "metadata": {},
   "outputs": [
    {
     "data": {
      "text/html": [
       "<h3>Shopping List</h3><ul><li><del>eggs</del><li>milk<li>cookies<li><del>bread</del></ul>"
      ],
      "text/plain": [
       "<__main__.ShoppingList at 0x7ff8b04770b8>"
      ]
     },
     "execution_count": 1,
     "metadata": {},
     "output_type": "execute_result"
    }
   ],
   "source": [
    "class ShoppingList:\n",
    "    def __init__(self, items=[]):\n",
    "        self.items = items # items we need to get\n",
    "        self.added = set() # items already in cart\n",
    "    \n",
    "    def pickup(????, ????):\n",
    "        self.added.add(item)\n",
    "    \n",
    "    def ????(self):\n",
    "        s = \"<h3>Shopping List</h3><ul>\"\n",
    "        for item in self.items:\n",
    "            if not item in self.added:\n",
    "                s += \"<li>\" + item\n",
    "            else:\n",
    "                ????\n",
    "        s += \"</ul>\"\n",
    "        return s\n",
    "    \n",
    "slist = ShoppingList([\"eggs\", \"milk\", \"cookies\", \"bread\"])\n",
    "slist.pickup(\"eggs\")\n",
    "slist.pickup(\"bread\")\n",
    "slist"
   ]
  },
  {
   "cell_type": "code",
   "execution_count": null,
   "metadata": {},
   "outputs": [],
   "source": []
  }
 ],
 "metadata": {
  "kernelspec": {
   "display_name": "Python 3",
   "language": "python",
   "name": "python3"
  },
  "language_info": {
   "codemirror_mode": {
    "name": "ipython",
    "version": 3
   },
   "file_extension": ".py",
   "mimetype": "text/x-python",
   "name": "python",
   "nbconvert_exporter": "python",
   "pygments_lexer": "ipython3",
   "version": "3.6.9"
  }
 },
 "nbformat": 4,
 "nbformat_minor": 4
}
