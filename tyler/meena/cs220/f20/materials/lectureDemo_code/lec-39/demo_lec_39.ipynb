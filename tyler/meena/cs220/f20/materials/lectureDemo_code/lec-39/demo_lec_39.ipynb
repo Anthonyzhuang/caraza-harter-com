{
 "cells": [
  {
   "cell_type": "code",
   "execution_count": 1,
   "metadata": {},
   "outputs": [],
   "source": [
    "# ignore this cell (it's just to make certain text red later, but you don't need to understand it).\n",
    "from IPython.core.display import display, HTML\n",
    "display(HTML('<style>em { color: red; }</style> <style>.container { width:100% !important; }</style>'))"
   ]
  },
  {
   "cell_type": "code",
   "execution_count": 2,
   "metadata": {},
   "outputs": [],
   "source": [
    "import pandas as pd\n",
    "from pandas import DataFrame, Series\n",
    "import matplotlib\n",
    "from matplotlib import pyplot as plt"
   ]
  },
  {
   "cell_type": "code",
   "execution_count": 3,
   "metadata": {},
   "outputs": [],
   "source": [
    "matplotlib.rcParams[\"font.size\"] = 16"
   ]
  },
  {
   "cell_type": "code",
   "execution_count": 4,
   "metadata": {},
   "outputs": [],
   "source": [
    "import math\n",
    "import requests"
   ]
  },
  {
   "cell_type": "markdown",
   "metadata": {},
   "source": [
    "# Bar Plot Example w/ Fire Hydrants continuation"
   ]
  },
  {
   "cell_type": "code",
   "execution_count": 5,
   "metadata": {},
   "outputs": [
    {
     "data": {
      "text/html": [
       "<div>\n",
       "<style scoped>\n",
       "    .dataframe tbody tr th:only-of-type {\n",
       "        vertical-align: middle;\n",
       "    }\n",
       "\n",
       "    .dataframe tbody tr th {\n",
       "        vertical-align: top;\n",
       "    }\n",
       "\n",
       "    .dataframe thead th {\n",
       "        text-align: right;\n",
       "    }\n",
       "</style>\n",
       "<table border=\"1\" class=\"dataframe\">\n",
       "  <thead>\n",
       "    <tr style=\"text-align: right;\">\n",
       "      <th></th>\n",
       "      <th>X</th>\n",
       "      <th>Y</th>\n",
       "      <th>OBJECTID</th>\n",
       "      <th>CreatedBy</th>\n",
       "      <th>CreatedDate</th>\n",
       "      <th>LastEditor</th>\n",
       "      <th>LastUpdate</th>\n",
       "      <th>FacilityID</th>\n",
       "      <th>DataSource</th>\n",
       "      <th>ProjectNumber</th>\n",
       "      <th>...</th>\n",
       "      <th>Elevation</th>\n",
       "      <th>Manufacturer</th>\n",
       "      <th>Style</th>\n",
       "      <th>year_manufactured</th>\n",
       "      <th>BarrelDiameter</th>\n",
       "      <th>SeatDiameter</th>\n",
       "      <th>Comments</th>\n",
       "      <th>nozzle_color</th>\n",
       "      <th>MaintainedBy</th>\n",
       "      <th>InstallType</th>\n",
       "    </tr>\n",
       "  </thead>\n",
       "  <tbody>\n",
       "    <tr>\n",
       "      <th>0</th>\n",
       "      <td>-89.519573</td>\n",
       "      <td>43.049308</td>\n",
       "      <td>2536</td>\n",
       "      <td>NaN</td>\n",
       "      <td>NaN</td>\n",
       "      <td>WUJAG</td>\n",
       "      <td>2018-06-07T19:45:53.000Z</td>\n",
       "      <td>HYDR-2360-2</td>\n",
       "      <td>FASB</td>\n",
       "      <td>NaN</td>\n",
       "      <td>...</td>\n",
       "      <td>1138.0</td>\n",
       "      <td>NaN</td>\n",
       "      <td>Pacer</td>\n",
       "      <td>1996.0</td>\n",
       "      <td>5.0</td>\n",
       "      <td>NaN</td>\n",
       "      <td>NaN</td>\n",
       "      <td>blue</td>\n",
       "      <td>MADISON WATER UTILITY</td>\n",
       "      <td>NaN</td>\n",
       "    </tr>\n",
       "    <tr>\n",
       "      <th>1</th>\n",
       "      <td>-89.521988</td>\n",
       "      <td>43.049193</td>\n",
       "      <td>2537</td>\n",
       "      <td>NaN</td>\n",
       "      <td>NaN</td>\n",
       "      <td>WUJAG</td>\n",
       "      <td>2018-06-07T19:45:53.000Z</td>\n",
       "      <td>HYDR-2360-4</td>\n",
       "      <td>FASB</td>\n",
       "      <td>NaN</td>\n",
       "      <td>...</td>\n",
       "      <td>1170.0</td>\n",
       "      <td>NaN</td>\n",
       "      <td>Pacer</td>\n",
       "      <td>1995.0</td>\n",
       "      <td>5.0</td>\n",
       "      <td>NaN</td>\n",
       "      <td>NaN</td>\n",
       "      <td>blue</td>\n",
       "      <td>MADISON WATER UTILITY</td>\n",
       "      <td>NaN</td>\n",
       "    </tr>\n",
       "    <tr>\n",
       "      <th>2</th>\n",
       "      <td>-89.522093</td>\n",
       "      <td>43.048233</td>\n",
       "      <td>2538</td>\n",
       "      <td>NaN</td>\n",
       "      <td>NaN</td>\n",
       "      <td>WUJAG</td>\n",
       "      <td>2018-06-07T19:45:53.000Z</td>\n",
       "      <td>HYDR-2361-19</td>\n",
       "      <td>FASB</td>\n",
       "      <td>NaN</td>\n",
       "      <td>...</td>\n",
       "      <td>1179.0</td>\n",
       "      <td>NaN</td>\n",
       "      <td>Pacer</td>\n",
       "      <td>1996.0</td>\n",
       "      <td>5.0</td>\n",
       "      <td>NaN</td>\n",
       "      <td>NaN</td>\n",
       "      <td>blue</td>\n",
       "      <td>MADISON WATER UTILITY</td>\n",
       "      <td>NaN</td>\n",
       "    </tr>\n",
       "    <tr>\n",
       "      <th>3</th>\n",
       "      <td>-89.521013</td>\n",
       "      <td>43.049033</td>\n",
       "      <td>2539</td>\n",
       "      <td>NaN</td>\n",
       "      <td>NaN</td>\n",
       "      <td>WUJAG</td>\n",
       "      <td>2018-06-07T19:45:53.000Z</td>\n",
       "      <td>HYDR-2360-3</td>\n",
       "      <td>FASB</td>\n",
       "      <td>NaN</td>\n",
       "      <td>...</td>\n",
       "      <td>1163.0</td>\n",
       "      <td>NaN</td>\n",
       "      <td>Pacer</td>\n",
       "      <td>1995.0</td>\n",
       "      <td>5.0</td>\n",
       "      <td>NaN</td>\n",
       "      <td>NaN</td>\n",
       "      <td>blue</td>\n",
       "      <td>MADISON WATER UTILITY</td>\n",
       "      <td>NaN</td>\n",
       "    </tr>\n",
       "    <tr>\n",
       "      <th>4</th>\n",
       "      <td>-89.524782</td>\n",
       "      <td>43.056263</td>\n",
       "      <td>2540</td>\n",
       "      <td>NaN</td>\n",
       "      <td>NaN</td>\n",
       "      <td>WUPTB</td>\n",
       "      <td>2017-08-31T16:19:46.000Z</td>\n",
       "      <td>HYDR-2257-5</td>\n",
       "      <td>NaN</td>\n",
       "      <td>NaN</td>\n",
       "      <td>...</td>\n",
       "      <td>1065.0</td>\n",
       "      <td>NaN</td>\n",
       "      <td>Pacer</td>\n",
       "      <td>1996.0</td>\n",
       "      <td>5.0</td>\n",
       "      <td>NaN</td>\n",
       "      <td>NaN</td>\n",
       "      <td>blue</td>\n",
       "      <td>MADISON WATER UTILITY</td>\n",
       "      <td>NaN</td>\n",
       "    </tr>\n",
       "  </tbody>\n",
       "</table>\n",
       "<p>5 rows × 25 columns</p>\n",
       "</div>"
      ],
      "text/plain": [
       "           X          Y  OBJECTID CreatedBy CreatedDate LastEditor  \\\n",
       "0 -89.519573  43.049308      2536       NaN         NaN      WUJAG   \n",
       "1 -89.521988  43.049193      2537       NaN         NaN      WUJAG   \n",
       "2 -89.522093  43.048233      2538       NaN         NaN      WUJAG   \n",
       "3 -89.521013  43.049033      2539       NaN         NaN      WUJAG   \n",
       "4 -89.524782  43.056263      2540       NaN         NaN      WUPTB   \n",
       "\n",
       "                 LastUpdate    FacilityID DataSource ProjectNumber  ...  \\\n",
       "0  2018-06-07T19:45:53.000Z   HYDR-2360-2       FASB           NaN  ...   \n",
       "1  2018-06-07T19:45:53.000Z   HYDR-2360-4       FASB           NaN  ...   \n",
       "2  2018-06-07T19:45:53.000Z  HYDR-2361-19       FASB           NaN  ...   \n",
       "3  2018-06-07T19:45:53.000Z   HYDR-2360-3       FASB           NaN  ...   \n",
       "4  2017-08-31T16:19:46.000Z   HYDR-2257-5        NaN           NaN  ...   \n",
       "\n",
       "  Elevation Manufacturer  Style  year_manufactured BarrelDiameter  \\\n",
       "0    1138.0          NaN  Pacer             1996.0            5.0   \n",
       "1    1170.0          NaN  Pacer             1995.0            5.0   \n",
       "2    1179.0          NaN  Pacer             1996.0            5.0   \n",
       "3    1163.0          NaN  Pacer             1995.0            5.0   \n",
       "4    1065.0          NaN  Pacer             1996.0            5.0   \n",
       "\n",
       "   SeatDiameter Comments nozzle_color           MaintainedBy  InstallType  \n",
       "0           NaN      NaN         blue  MADISON WATER UTILITY          NaN  \n",
       "1           NaN      NaN         blue  MADISON WATER UTILITY          NaN  \n",
       "2           NaN      NaN         blue  MADISON WATER UTILITY          NaN  \n",
       "3           NaN      NaN         blue  MADISON WATER UTILITY          NaN  \n",
       "4           NaN      NaN         blue  MADISON WATER UTILITY          NaN  \n",
       "\n",
       "[5 rows x 25 columns]"
      ]
     },
     "execution_count": 5,
     "metadata": {},
     "output_type": "execute_result"
    }
   ],
   "source": [
    "df = pd.read_csv(\"Fire_Hydrants.csv\")\n",
    "df.head()"
   ]
  },
  {
   "cell_type": "code",
   "execution_count": 6,
   "metadata": {},
   "outputs": [
    {
     "data": {
      "text/plain": [
       "Text(0.5, 0, 'Hydrant count')"
      ]
     },
     "execution_count": 6,
     "metadata": {},
     "output_type": "execute_result"
    },
    {
     "data": {
      "image/png": "[encoded data removed]",
      "text/plain": [
       "<Figure size 432x288 with 1 Axes>"
      ]
     },
     "metadata": {
      "needs_background": "light"
     },
     "output_type": "display_data"
    }
   ],
   "source": [
    "style_counts = df[\"Style\"].str.upper().value_counts()\n",
    "top12 = style_counts.iloc[:12]\n",
    "top12[\"other\"] = style_counts.iloc[12:].sum()\n",
    "ax = top12.plot.barh(color=\"k\")\n",
    "ax.set_xlabel(\"Hydrant count\")"
   ]
  },
  {
   "cell_type": "markdown",
   "metadata": {},
   "source": [
    "### In what *decade* were *pacers manufactured*?\n",
    "### Take a peek at the *Style* column data"
   ]
  },
  {
   "cell_type": "code",
   "execution_count": 7,
   "metadata": {},
   "outputs": [
    {
     "name": "stdout",
     "output_type": "stream",
     "text": [
      "0    Pacer\n",
      "1    Pacer\n",
      "2    Pacer\n",
      "3    Pacer\n",
      "4    Pacer\n",
      "Name: Style, dtype: object\n",
      "10104    NaN\n",
      "10105    NaN\n",
      "10106    NaN\n",
      "10107    NaN\n",
      "10108    NaN\n",
      "Name: Style, dtype: object\n"
     ]
    }
   ],
   "source": [
    "print(df[\"Style\"].head())\n",
    "print(df[\"Style\"].tail())"
   ]
  },
  {
   "cell_type": "markdown",
   "metadata": {},
   "source": [
    "### Which *column* gives *year* information?"
   ]
  },
  {
   "cell_type": "code",
   "execution_count": 8,
   "metadata": {},
   "outputs": [
    {
     "data": {
      "text/plain": [
       "Index(['X', 'Y', 'OBJECTID', 'CreatedBy', 'CreatedDate', 'LastEditor',\n",
       "       'LastUpdate', 'FacilityID', 'DataSource', 'ProjectNumber',\n",
       "       'InstallDate', 'LifecycleStatus', 'Location', 'SymbolRotation',\n",
       "       'HydrantType', 'Elevation', 'Manufacturer', 'Style',\n",
       "       'year_manufactured', 'BarrelDiameter', 'SeatDiameter', 'Comments',\n",
       "       'nozzle_color', 'MaintainedBy', 'InstallType'],\n",
       "      dtype='object')"
      ]
     },
     "execution_count": 8,
     "metadata": {},
     "output_type": "execute_result"
    }
   ],
   "source": [
    "df.columns"
   ]
  },
  {
   "cell_type": "markdown",
   "metadata": {},
   "source": [
    "### How to get the *decade* for *pacers* and *others*?"
   ]
  },
  {
   "cell_type": "code",
   "execution_count": 9,
   "metadata": {},
   "outputs": [
    {
     "data": {
      "text/html": [
       "<div>\n",
       "<style scoped>\n",
       "    .dataframe tbody tr th:only-of-type {\n",
       "        vertical-align: middle;\n",
       "    }\n",
       "\n",
       "    .dataframe tbody tr th {\n",
       "        vertical-align: top;\n",
       "    }\n",
       "\n",
       "    .dataframe thead th {\n",
       "        text-align: right;\n",
       "    }\n",
       "</style>\n",
       "<table border=\"1\" class=\"dataframe\">\n",
       "  <thead>\n",
       "    <tr style=\"text-align: right;\">\n",
       "      <th></th>\n",
       "      <th>Style</th>\n",
       "      <th>year_manufactured</th>\n",
       "    </tr>\n",
       "  </thead>\n",
       "  <tbody>\n",
       "    <tr>\n",
       "      <th>0</th>\n",
       "      <td>Pacer</td>\n",
       "      <td>1996.0</td>\n",
       "    </tr>\n",
       "    <tr>\n",
       "      <th>1</th>\n",
       "      <td>Pacer</td>\n",
       "      <td>1995.0</td>\n",
       "    </tr>\n",
       "    <tr>\n",
       "      <th>2</th>\n",
       "      <td>Pacer</td>\n",
       "      <td>1996.0</td>\n",
       "    </tr>\n",
       "    <tr>\n",
       "      <th>3</th>\n",
       "      <td>Pacer</td>\n",
       "      <td>1995.0</td>\n",
       "    </tr>\n",
       "    <tr>\n",
       "      <th>4</th>\n",
       "      <td>Pacer</td>\n",
       "      <td>1996.0</td>\n",
       "    </tr>\n",
       "  </tbody>\n",
       "</table>\n",
       "</div>"
      ],
      "text/plain": [
       "   Style  year_manufactured\n",
       "0  Pacer             1996.0\n",
       "1  Pacer             1995.0\n",
       "2  Pacer             1996.0\n",
       "3  Pacer             1995.0\n",
       "4  Pacer             1996.0"
      ]
     },
     "execution_count": 9,
     "metadata": {},
     "output_type": "execute_result"
    }
   ],
   "source": [
    "df[[\"Style\", \"year_manufactured\"]].head()"
   ]
  },
  {
   "cell_type": "code",
   "execution_count": 10,
   "metadata": {},
   "outputs": [
    {
     "name": "stdout",
     "output_type": "stream",
     "text": [
      "0    1996.0\n",
      "1    1995.0\n",
      "2    1996.0\n",
      "3    1995.0\n",
      "4    1996.0\n",
      "Name: year_manufactured, dtype: float64\n",
      "18    1987.0\n",
      "22    1996.0\n",
      "23    1996.0\n",
      "71    1987.0\n",
      "72    1987.0\n",
      "Name: year_manufactured, dtype: float64\n"
     ]
    }
   ],
   "source": [
    "pacer_years = df[\"year_manufactured\"][df[\"Style\"] == \"Pacer\"]\n",
    "other_years = df[\"year_manufactured\"][df[\"Style\"] != \"Pacer\"]\n",
    "print(pacer_years.head())\n",
    "print(other_years.head())"
   ]
  },
  {
   "cell_type": "code",
   "execution_count": 11,
   "metadata": {},
   "outputs": [
    {
     "data": {
      "text/plain": [
       "0    1990.0\n",
       "1    1990.0\n",
       "2    1990.0\n",
       "3    1990.0\n",
       "4    1990.0\n",
       "Name: year_manufactured, dtype: float64"
      ]
     },
     "execution_count": 11,
     "metadata": {},
     "output_type": "execute_result"
    }
   ],
   "source": [
    "pacer_decades = (pacer_years // 10 * 10)\n",
    "pacer_decades.head()"
   ]
  },
  {
   "cell_type": "markdown",
   "metadata": {},
   "source": [
    "### How to *count the decades* for pacers and others?"
   ]
  },
  {
   "cell_type": "code",
   "execution_count": 12,
   "metadata": {},
   "outputs": [
    {
     "data": {
      "text/plain": [
       "2000.0    1730\n",
       "1990.0     846\n",
       "2010.0     503\n",
       "1980.0      21\n",
       "1960.0       1\n",
       "Name: year_manufactured, dtype: int64"
      ]
     },
     "execution_count": 12,
     "metadata": {},
     "output_type": "execute_result"
    }
   ],
   "source": [
    "pacer_decades = (pacer_years // 10 * 10).value_counts()\n",
    "pacer_decades.head()"
   ]
  },
  {
   "cell_type": "markdown",
   "metadata": {},
   "source": [
    "### How to convert the *decades* back to *int*?"
   ]
  },
  {
   "cell_type": "code",
   "execution_count": 13,
   "metadata": {},
   "outputs": [],
   "source": [
    "#Doesn't work because of NaN values\n",
    "#pacer_decades = (pacer_years // 10 * 10).astype(int).value_counts()\n",
    "#pacer_decades.head()"
   ]
  },
  {
   "cell_type": "code",
   "execution_count": 14,
   "metadata": {},
   "outputs": [
    {
     "data": {
      "text/plain": [
       "2000    1730\n",
       "1990     846\n",
       "2010     503\n",
       "1980      21\n",
       "1960       1\n",
       "Name: year_manufactured, dtype: int64"
      ]
     },
     "execution_count": 14,
     "metadata": {},
     "output_type": "execute_result"
    }
   ],
   "source": [
    "#Getting rid of NaN values\n",
    "pacer_decades = (pacer_years // 10 * 10).dropna()\n",
    "pacer_decades = pacer_decades.astype(int).value_counts()\n",
    "pacer_decades"
   ]
  },
  {
   "cell_type": "code",
   "execution_count": 15,
   "metadata": {},
   "outputs": [
    {
     "data": {
      "text/plain": [
       "2010    1196\n",
       "1980     937\n",
       "1970     578\n",
       "1990     431\n",
       "1950     371\n",
       "1960     349\n",
       "2000     215\n",
       "1940      68\n",
       "1930       9\n",
       "1900       1\n",
       "Name: year_manufactured, dtype: int64"
      ]
     },
     "execution_count": 15,
     "metadata": {},
     "output_type": "execute_result"
    }
   ],
   "source": [
    "other_decades = (other_years // 10 * 10).dropna()\n",
    "other_decades = other_decades.astype(int).value_counts()\n",
    "other_decades"
   ]
  },
  {
   "cell_type": "markdown",
   "metadata": {},
   "source": [
    "### How to put both the pacers and other decade counts Series together?"
   ]
  },
  {
   "cell_type": "code",
   "execution_count": 16,
   "metadata": {},
   "outputs": [
    {
     "data": {
      "text/html": [
       "<div>\n",
       "<style scoped>\n",
       "    .dataframe tbody tr th:only-of-type {\n",
       "        vertical-align: middle;\n",
       "    }\n",
       "\n",
       "    .dataframe tbody tr th {\n",
       "        vertical-align: top;\n",
       "    }\n",
       "\n",
       "    .dataframe thead th {\n",
       "        text-align: right;\n",
       "    }\n",
       "</style>\n",
       "<table border=\"1\" class=\"dataframe\">\n",
       "  <thead>\n",
       "    <tr style=\"text-align: right;\">\n",
       "      <th></th>\n",
       "      <th>pacer</th>\n",
       "      <th>other</th>\n",
       "    </tr>\n",
       "  </thead>\n",
       "  <tbody>\n",
       "    <tr>\n",
       "      <th>1900</th>\n",
       "      <td>NaN</td>\n",
       "      <td>1</td>\n",
       "    </tr>\n",
       "    <tr>\n",
       "      <th>1930</th>\n",
       "      <td>NaN</td>\n",
       "      <td>9</td>\n",
       "    </tr>\n",
       "    <tr>\n",
       "      <th>1940</th>\n",
       "      <td>NaN</td>\n",
       "      <td>68</td>\n",
       "    </tr>\n",
       "    <tr>\n",
       "      <th>1950</th>\n",
       "      <td>NaN</td>\n",
       "      <td>371</td>\n",
       "    </tr>\n",
       "    <tr>\n",
       "      <th>1960</th>\n",
       "      <td>1.0</td>\n",
       "      <td>349</td>\n",
       "    </tr>\n",
       "    <tr>\n",
       "      <th>1970</th>\n",
       "      <td>NaN</td>\n",
       "      <td>578</td>\n",
       "    </tr>\n",
       "    <tr>\n",
       "      <th>1980</th>\n",
       "      <td>21.0</td>\n",
       "      <td>937</td>\n",
       "    </tr>\n",
       "    <tr>\n",
       "      <th>1990</th>\n",
       "      <td>846.0</td>\n",
       "      <td>431</td>\n",
       "    </tr>\n",
       "    <tr>\n",
       "      <th>2000</th>\n",
       "      <td>1730.0</td>\n",
       "      <td>215</td>\n",
       "    </tr>\n",
       "    <tr>\n",
       "      <th>2010</th>\n",
       "      <td>503.0</td>\n",
       "      <td>1196</td>\n",
       "    </tr>\n",
       "  </tbody>\n",
       "</table>\n",
       "</div>"
      ],
      "text/plain": [
       "       pacer  other\n",
       "1900     NaN      1\n",
       "1930     NaN      9\n",
       "1940     NaN     68\n",
       "1950     NaN    371\n",
       "1960     1.0    349\n",
       "1970     NaN    578\n",
       "1980    21.0    937\n",
       "1990   846.0    431\n",
       "2000  1730.0    215\n",
       "2010   503.0   1196"
      ]
     },
     "execution_count": 16,
     "metadata": {},
     "output_type": "execute_result"
    }
   ],
   "source": [
    "plot_df = DataFrame({\n",
    "    \"pacer\": pacer_decades,\n",
    "    \"other\": other_decades,\n",
    "})\n",
    "plot_df"
   ]
  },
  {
   "cell_type": "markdown",
   "metadata": {},
   "source": [
    "### Create a *bar plot* for visualization"
   ]
  },
  {
   "cell_type": "code",
   "execution_count": 17,
   "metadata": {},
   "outputs": [
    {
     "data": {
      "text/plain": [
       "Text(0, 0.5, 'Hydrant Count')"
      ]
     },
     "execution_count": 17,
     "metadata": {},
     "output_type": "execute_result"
    },
    {
     "data": {
      "image/png": "[encoded data removed]",
      "text/plain": [
       "<Figure size 432x288 with 1 Axes>"
      ]
     },
     "metadata": {
      "needs_background": "light"
     },
     "output_type": "display_data"
    }
   ],
   "source": [
    "ax = plot_df.plot.bar()\n",
    "ax.set_xlabel(\"Decade\")\n",
    "ax.set_ylabel(\"Hydrant Count\")"
   ]
  },
  {
   "cell_type": "code",
   "execution_count": 18,
   "metadata": {},
   "outputs": [
    {
     "data": {
      "text/plain": [
       "Text(0, 0.5, 'Hydrant Count')"
      ]
     },
     "execution_count": 18,
     "metadata": {},
     "output_type": "execute_result"
    },
    {
     "data": {
      "image/png": "[encoded data removed]",
      "text/plain": [
       "<Figure size 432x288 with 1 Axes>"
      ]
     },
     "metadata": {
      "needs_background": "light"
     },
     "output_type": "display_data"
    }
   ],
   "source": [
    "ax = plot_df[plot_df.index >= 1950].plot.bar()\n",
    "ax.set_xlabel(\"Decade\")\n",
    "ax.set_ylabel(\"Hydrant Count\")"
   ]
  },
  {
   "cell_type": "code",
   "execution_count": 19,
   "metadata": {},
   "outputs": [
    {
     "data": {
      "image/png": "[encoded data removed]",
      "text/plain": [
       "<Figure size 432x288 with 1 Axes>"
      ]
     },
     "metadata": {
      "needs_background": "light"
     },
     "output_type": "display_data"
    }
   ],
   "source": [
    "ax = plot_df[plot_df.index >= 1950].plot.bar(stacked=True)\n",
    "ax.set_xlabel(\"Decade\")\n",
    "ax.set_ylabel(\"Hydrant Count\")\n",
    "None"
   ]
  },
  {
   "cell_type": "markdown",
   "metadata": {},
   "source": [
    "# Rest of today's lecture\n",
    "- setting axes limits\n",
    "- logarithms\n",
    "- multiple plots within same figure"
   ]
  },
  {
   "cell_type": "markdown",
   "metadata": {},
   "source": [
    "## IRIS dataset: http://archive.ics.uci.edu/ml/datasets/iris"
   ]
  },
  {
   "cell_type": "code",
   "execution_count": 20,
   "metadata": {},
   "outputs": [
    {
     "data": {
      "text/html": [
       "<div>\n",
       "<style scoped>\n",
       "    .dataframe tbody tr th:only-of-type {\n",
       "        vertical-align: middle;\n",
       "    }\n",
       "\n",
       "    .dataframe tbody tr th {\n",
       "        vertical-align: top;\n",
       "    }\n",
       "\n",
       "    .dataframe thead th {\n",
       "        text-align: right;\n",
       "    }\n",
       "</style>\n",
       "<table border=\"1\" class=\"dataframe\">\n",
       "  <thead>\n",
       "    <tr style=\"text-align: right;\">\n",
       "      <th></th>\n",
       "      <th>sep-len</th>\n",
       "      <th>sep-wid</th>\n",
       "      <th>pet-len</th>\n",
       "      <th>pet-wid</th>\n",
       "      <th>class</th>\n",
       "    </tr>\n",
       "  </thead>\n",
       "  <tbody>\n",
       "    <tr>\n",
       "      <th>0</th>\n",
       "      <td>5.1</td>\n",
       "      <td>3.5</td>\n",
       "      <td>1.4</td>\n",
       "      <td>0.2</td>\n",
       "      <td>Iris-setosa</td>\n",
       "    </tr>\n",
       "    <tr>\n",
       "      <th>1</th>\n",
       "      <td>4.9</td>\n",
       "      <td>3.0</td>\n",
       "      <td>1.4</td>\n",
       "      <td>0.2</td>\n",
       "      <td>Iris-setosa</td>\n",
       "    </tr>\n",
       "    <tr>\n",
       "      <th>2</th>\n",
       "      <td>4.7</td>\n",
       "      <td>3.2</td>\n",
       "      <td>1.3</td>\n",
       "      <td>0.2</td>\n",
       "      <td>Iris-setosa</td>\n",
       "    </tr>\n",
       "    <tr>\n",
       "      <th>3</th>\n",
       "      <td>4.6</td>\n",
       "      <td>3.1</td>\n",
       "      <td>1.5</td>\n",
       "      <td>0.2</td>\n",
       "      <td>Iris-setosa</td>\n",
       "    </tr>\n",
       "    <tr>\n",
       "      <th>4</th>\n",
       "      <td>5.0</td>\n",
       "      <td>3.6</td>\n",
       "      <td>1.4</td>\n",
       "      <td>0.2</td>\n",
       "      <td>Iris-setosa</td>\n",
       "    </tr>\n",
       "  </tbody>\n",
       "</table>\n",
       "</div>"
      ],
      "text/plain": [
       "   sep-len  sep-wid  pet-len  pet-wid        class\n",
       "0      5.1      3.5      1.4      0.2  Iris-setosa\n",
       "1      4.9      3.0      1.4      0.2  Iris-setosa\n",
       "2      4.7      3.2      1.3      0.2  Iris-setosa\n",
       "3      4.6      3.1      1.5      0.2  Iris-setosa\n",
       "4      5.0      3.6      1.4      0.2  Iris-setosa"
      ]
     },
     "execution_count": 20,
     "metadata": {},
     "output_type": "execute_result"
    }
   ],
   "source": [
    "resp = requests.get(\"https://archive.ics.uci.edu/ml/machine-learning-databases/iris/iris.data\")\n",
    "resp.raise_for_status()\n",
    "\n",
    "iris_fh = open(\"iris.data\", \"w\")\n",
    "iris_fh.write(resp.text)\n",
    "iris_fh.close()\n",
    "\n",
    "df = pd.read_csv(\"iris.data\",\n",
    "                 names=[\"sep-len\", \"sep-wid\", \"pet-len\", \"pet-wid\", \"class\"])\n",
    "df.head()"
   ]
  },
  {
   "cell_type": "code",
   "execution_count": 21,
   "metadata": {},
   "outputs": [
    {
     "data": {
      "text/plain": [
       "{'Iris-setosa', 'Iris-versicolor', 'Iris-virginica'}"
      ]
     },
     "execution_count": 21,
     "metadata": {},
     "output_type": "execute_result"
    }
   ],
   "source": [
    "classes = set(df[\"class\"])\n",
    "classes"
   ]
  },
  {
   "cell_type": "markdown",
   "metadata": {},
   "source": [
    "### How do we control the *axes range* of values?\n",
    "### Let us consider plotting just the data for class \"Iris-virginica\"\n",
    "### How to extract data just for \"Iris-virginica\"?"
   ]
  },
  {
   "cell_type": "code",
   "execution_count": 22,
   "metadata": {},
   "outputs": [
    {
     "data": {
      "text/html": [
       "<div>\n",
       "<style scoped>\n",
       "    .dataframe tbody tr th:only-of-type {\n",
       "        vertical-align: middle;\n",
       "    }\n",
       "\n",
       "    .dataframe tbody tr th {\n",
       "        vertical-align: top;\n",
       "    }\n",
       "\n",
       "    .dataframe thead th {\n",
       "        text-align: right;\n",
       "    }\n",
       "</style>\n",
       "<table border=\"1\" class=\"dataframe\">\n",
       "  <thead>\n",
       "    <tr style=\"text-align: right;\">\n",
       "      <th></th>\n",
       "      <th>sep-len</th>\n",
       "      <th>sep-wid</th>\n",
       "      <th>pet-len</th>\n",
       "      <th>pet-wid</th>\n",
       "      <th>class</th>\n",
       "    </tr>\n",
       "  </thead>\n",
       "  <tbody>\n",
       "    <tr>\n",
       "      <th>100</th>\n",
       "      <td>6.3</td>\n",
       "      <td>3.3</td>\n",
       "      <td>6.0</td>\n",
       "      <td>2.5</td>\n",
       "      <td>Iris-virginica</td>\n",
       "    </tr>\n",
       "    <tr>\n",
       "      <th>101</th>\n",
       "      <td>5.8</td>\n",
       "      <td>2.7</td>\n",
       "      <td>5.1</td>\n",
       "      <td>1.9</td>\n",
       "      <td>Iris-virginica</td>\n",
       "    </tr>\n",
       "    <tr>\n",
       "      <th>102</th>\n",
       "      <td>7.1</td>\n",
       "      <td>3.0</td>\n",
       "      <td>5.9</td>\n",
       "      <td>2.1</td>\n",
       "      <td>Iris-virginica</td>\n",
       "    </tr>\n",
       "    <tr>\n",
       "      <th>103</th>\n",
       "      <td>6.3</td>\n",
       "      <td>2.9</td>\n",
       "      <td>5.6</td>\n",
       "      <td>1.8</td>\n",
       "      <td>Iris-virginica</td>\n",
       "    </tr>\n",
       "    <tr>\n",
       "      <th>104</th>\n",
       "      <td>6.5</td>\n",
       "      <td>3.0</td>\n",
       "      <td>5.8</td>\n",
       "      <td>2.2</td>\n",
       "      <td>Iris-virginica</td>\n",
       "    </tr>\n",
       "  </tbody>\n",
       "</table>\n",
       "</div>"
      ],
      "text/plain": [
       "     sep-len  sep-wid  pet-len  pet-wid           class\n",
       "100      6.3      3.3      6.0      2.5  Iris-virginica\n",
       "101      5.8      2.7      5.1      1.9  Iris-virginica\n",
       "102      7.1      3.0      5.9      2.1  Iris-virginica\n",
       "103      6.3      2.9      5.6      1.8  Iris-virginica\n",
       "104      6.5      3.0      5.8      2.2  Iris-virginica"
      ]
     },
     "execution_count": 22,
     "metadata": {},
     "output_type": "execute_result"
    }
   ],
   "source": [
    "df_sub = df[df[\"class\"] == \"Iris-virginica\"]\n",
    "assert(len(df_sub) == 50)\n",
    "df_sub.head()"
   ]
  },
  {
   "cell_type": "code",
   "execution_count": 23,
   "metadata": {},
   "outputs": [
    {
     "data": {
      "text/plain": [
       "<AxesSubplot:xlabel='pet-wid', ylabel='pet-len'>"
      ]
     },
     "execution_count": 23,
     "metadata": {},
     "output_type": "execute_result"
    },
    {
     "data": {
      "image/png": "[encoded data removed]",
      "text/plain": [
       "<Figure size 432x288 with 1 Axes>"
      ]
     },
     "metadata": {
      "needs_background": "light"
     },
     "output_type": "display_data"
    }
   ],
   "source": [
    "df_sub.plot.scatter(x=\"pet-wid\", y=\"pet-len\")"
   ]
  },
  {
   "cell_type": "code",
   "execution_count": 24,
   "metadata": {},
   "outputs": [
    {
     "data": {
      "text/plain": [
       "<AxesSubplot:xlabel='pet-wid', ylabel='pet-len'>"
      ]
     },
     "execution_count": 24,
     "metadata": {},
     "output_type": "execute_result"
    },
    {
     "data": {
      "image/png": "[encoded data removed]",
      "text/plain": [
       "<Figure size 432x288 with 1 Axes>"
      ]
     },
     "metadata": {
      "needs_background": "light"
     },
     "output_type": "display_data"
    }
   ],
   "source": [
    "df_sub.plot.scatter(x=\"pet-wid\", y=\"pet-len\", xlim=0, ylim=0)"
   ]
  },
  {
   "cell_type": "markdown",
   "metadata": {},
   "source": [
    "### Let's learn about *xlim* and *ylim*\n",
    "- Allows us to set x-axis and y-axis limits\n",
    "- Takes either a single value (LOWER-BOUND) or a tuple containing two values (LOWER-BOUND, UPPER-BOUND)\n",
    "- You need to be careful about setting the UPPER-BOUND"
   ]
  },
  {
   "cell_type": "code",
   "execution_count": 25,
   "metadata": {},
   "outputs": [
    {
     "data": {
      "image/png": "[encoded data removed]",
      "text/plain": [
       "<Figure size 216x216 with 1 Axes>"
      ]
     },
     "metadata": {
      "needs_background": "light"
     },
     "output_type": "display_data"
    }
   ],
   "source": [
    "ax = df_sub.plot.scatter(x=\"pet-wid\", y=\"pet-len\",\n",
    "                    xlim=(0,6), ylim=(0,6),\n",
    "                    figsize=(3,3))"
   ]
  },
  {
   "cell_type": "markdown",
   "metadata": {},
   "source": [
    "What's wrong with the above plot?"
   ]
  },
  {
   "cell_type": "code",
   "execution_count": 26,
   "metadata": {},
   "outputs": [
    {
     "data": {
      "text/plain": [
       "6.9"
      ]
     },
     "execution_count": 26,
     "metadata": {},
     "output_type": "execute_result"
    }
   ],
   "source": [
    "df_sub[\"pet-len\"].max()"
   ]
  },
  {
   "cell_type": "code",
   "execution_count": 27,
   "metadata": {},
   "outputs": [
    {
     "data": {
      "text/plain": [
       "(0.0, 6.0)"
      ]
     },
     "execution_count": 27,
     "metadata": {},
     "output_type": "execute_result"
    }
   ],
   "source": [
    "ax.get_ylim()"
   ]
  },
  {
   "cell_type": "markdown",
   "metadata": {},
   "source": [
    "Let's include assert statements to make sure we don't crop the plot!"
   ]
  },
  {
   "cell_type": "code",
   "execution_count": 28,
   "metadata": {},
   "outputs": [
    {
     "ename": "AssertionError",
     "evalue": "",
     "output_type": "error",
     "traceback": [
      "\u001b[0;31m---------------------------------------------------------------------------\u001b[0m",
      "\u001b[0;31mAssertionError\u001b[0m                            Traceback (most recent call last)",
      "\u001b[0;32m<ipython-input-28-333431eddff3>\u001b[0m in \u001b[0;36m<module>\u001b[0;34m\u001b[0m\n\u001b[1;32m      2\u001b[0m                      \u001b[0mxlim\u001b[0m\u001b[0;34m=\u001b[0m\u001b[0;34m(\u001b[0m\u001b[0;36m0\u001b[0m\u001b[0;34m,\u001b[0m\u001b[0;36m6\u001b[0m\u001b[0;34m)\u001b[0m\u001b[0;34m,\u001b[0m \u001b[0mylim\u001b[0m\u001b[0;34m=\u001b[0m\u001b[0;34m(\u001b[0m\u001b[0;36m0\u001b[0m\u001b[0;34m,\u001b[0m\u001b[0;36m6\u001b[0m\u001b[0;34m)\u001b[0m\u001b[0;34m,\u001b[0m\u001b[0;34m\u001b[0m\u001b[0;34m\u001b[0m\u001b[0m\n\u001b[1;32m      3\u001b[0m                      figsize=(3,3))\n\u001b[0;32m----> 4\u001b[0;31m \u001b[0;32massert\u001b[0m \u001b[0mdf_sub\u001b[0m\u001b[0;34m[\u001b[0m\u001b[0;34m\"pet-len\"\u001b[0m\u001b[0;34m]\u001b[0m\u001b[0;34m.\u001b[0m\u001b[0mmax\u001b[0m\u001b[0;34m(\u001b[0m\u001b[0;34m)\u001b[0m \u001b[0;34m<=\u001b[0m \u001b[0max\u001b[0m\u001b[0;34m.\u001b[0m\u001b[0mget_ylim\u001b[0m\u001b[0;34m(\u001b[0m\u001b[0;34m)\u001b[0m\u001b[0;34m[\u001b[0m\u001b[0;36m1\u001b[0m\u001b[0;34m]\u001b[0m\u001b[0;34m\u001b[0m\u001b[0;34m\u001b[0m\u001b[0m\n\u001b[0m",
      "\u001b[0;31mAssertionError\u001b[0m: "
     ]
    },
    {
     "data": {
      "image/png": "[encoded data removed]",
      "text/plain": [
       "<Figure size 216x216 with 1 Axes>"
      ]
     },
     "metadata": {
      "needs_background": "light"
     },
     "output_type": "display_data"
    }
   ],
   "source": [
    "ax = df_sub.plot.scatter(x=\"pet-wid\", y=\"pet-len\",\n",
    "                     xlim=(0,6), ylim=(0,6),\n",
    "                     figsize=(3,3))\n",
    "assert df_sub[\"pet-len\"].max() <= ax.get_ylim()[1]"
   ]
  },
  {
   "cell_type": "code",
   "execution_count": null,
   "metadata": {},
   "outputs": [],
   "source": [
    "ax = df_sub.plot.scatter(x=\"pet-wid\", y=\"pet-len\",\n",
    "                     xlim=(0,7), ylim=(0,7),\n",
    "                     figsize=(3,3))\n",
    "assert df_sub[ax.get_xlabel()].min() >= ax.get_xlim()[0]\n",
    "assert df_sub[ax.get_xlabel()].max() <= ax.get_xlim()[1]\n",
    "assert df_sub[ax.get_ylabel()].min() >= ax.get_ylim()[0]\n",
    "assert df_sub[ax.get_ylabel()].max() <= ax.get_ylim()[1]"
   ]
  },
  {
   "cell_type": "markdown",
   "metadata": {},
   "source": [
    "### Logarithmic scale\n",
    "- math.log(y, base)\n",
    "- find an x, such that 10**x == y\n",
    "    - math.log10(y)"
   ]
  },
  {
   "cell_type": "code",
   "execution_count": null,
   "metadata": {},
   "outputs": [],
   "source": [
    "math.log10(1000)"
   ]
  },
  {
   "cell_type": "code",
   "execution_count": null,
   "metadata": {},
   "outputs": [],
   "source": [
    "def log_approx(y):\n",
    "    assert type(y) == int\n",
    "    assert y >= 1\n",
    "    return len(str(y))"
   ]
  },
  {
   "cell_type": "code",
   "execution_count": null,
   "metadata": {},
   "outputs": [],
   "source": [
    "log_approx(123456789)"
   ]
  },
  {
   "cell_type": "code",
   "execution_count": null,
   "metadata": {},
   "outputs": [],
   "source": [
    "math.log10(123456789)"
   ]
  },
  {
   "cell_type": "code",
   "execution_count": null,
   "metadata": {},
   "outputs": [],
   "source": [
    "log_approx(989898)"
   ]
  },
  {
   "cell_type": "code",
   "execution_count": null,
   "metadata": {},
   "outputs": [],
   "source": [
    "math.log10(989898)"
   ]
  },
  {
   "cell_type": "markdown",
   "metadata": {},
   "source": [
    "Let's look at the error margin"
   ]
  },
  {
   "cell_type": "code",
   "execution_count": null,
   "metadata": {},
   "outputs": [],
   "source": [
    "errors = []\n",
    "for i in range(1000000):\n",
    "    y = i + 1\n",
    "    err = abs(log_approx(y) - math.log10(y))\n",
    "    errors.append(err)\n",
    "max(errors)"
   ]
  },
  {
   "cell_type": "markdown",
   "metadata": {},
   "source": [
    "### Why does this matter?\n",
    "- Comparing two numbers:\n",
    "     - 134234255623423423423432423432432432\n",
    "     - 2342343252523\n",
    "\n",
    "- Eventually I don't care what the number is, but only counting the number of digits in the number to know how big the number is!\n",
    "- log base 2: counting how many bits we need\n",
    "- log base 10: 10 digits 0 through 9!"
   ]
  },
  {
   "cell_type": "code",
   "execution_count": null,
   "metadata": {},
   "outputs": [],
   "source": [
    "s = Series([1, 10, 100, 1000, 10000, 100000, 1000000])\n",
    "s.plot.line()"
   ]
  },
  {
   "cell_type": "code",
   "execution_count": null,
   "metadata": {},
   "outputs": [],
   "source": [
    "s.plot.line(logy = True)"
   ]
  },
  {
   "cell_type": "markdown",
   "metadata": {},
   "source": [
    "### Multiple *axessubplots* in the same plot"
   ]
  },
  {
   "cell_type": "code",
   "execution_count": null,
   "metadata": {},
   "outputs": [],
   "source": [
    "plt.subplots()"
   ]
  },
  {
   "cell_type": "code",
   "execution_count": null,
   "metadata": {},
   "outputs": [],
   "source": [
    "plt.subplots(ncols = 2)"
   ]
  },
  {
   "cell_type": "code",
   "execution_count": null,
   "metadata": {},
   "outputs": [],
   "source": [
    "plt.subplots(nrows=2)"
   ]
  },
  {
   "cell_type": "code",
   "execution_count": null,
   "metadata": {},
   "outputs": [],
   "source": [
    "plt.subplots(ncols = 2, nrows = 2)"
   ]
  },
  {
   "cell_type": "code",
   "execution_count": null,
   "metadata": {},
   "outputs": [],
   "source": [
    "fig, axes = plt.subplots(ncols = 2)\n",
    "# axes[0] # the area on the left\n",
    "# axes[1] # the area on the right\n",
    "Series([1,2,3,3,4]).plot.line(ax=axes[0])\n",
    "Series([5,7,7,8]).plot.line(ax=axes[1])"
   ]
  },
  {
   "cell_type": "code",
   "execution_count": null,
   "metadata": {},
   "outputs": [],
   "source": [
    "fig, axes = plt.subplots(ncols = 2, sharey = True)\n",
    "# axes[0] # the area on the left\n",
    "# axes[1] # the area on the right\n",
    "Series([1,2,3,3,4]).plot.line(ax=axes[0])\n",
    "Series([5,7,7,8]).plot.line(ax=axes[1])"
   ]
  },
  {
   "cell_type": "markdown",
   "metadata": {},
   "source": [
    "### That's all folks ...\n",
    "### (for plotting topic)"
   ]
  },
  {
   "cell_type": "code",
   "execution_count": null,
   "metadata": {},
   "outputs": [],
   "source": []
  }
 ],
 "metadata": {
  "kernelspec": {
   "display_name": "Python 3",
   "language": "python",
   "name": "python3"
  },
  "language_info": {
   "codemirror_mode": {
    "name": "ipython",
    "version": 3
   },
   "file_extension": ".py",
   "mimetype": "text/x-python",
   "name": "python",
   "nbconvert_exporter": "python",
   "pygments_lexer": "ipython3",
   "version": "3.8.5"
  }
 },
 "nbformat": 4,
 "nbformat_minor": 2
}
