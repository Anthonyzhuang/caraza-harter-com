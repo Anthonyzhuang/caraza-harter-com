{
 "cells": [
  {
   "cell_type": "code",
   "execution_count": 31,
   "metadata": {},
   "outputs": [
    {
     "data": {
      "text/html": [
       "<style>.container { width:100% !important; }</style>"
      ],
      "text/plain": [
       "<IPython.core.display.HTML object>"
      ]
     },
     "metadata": {},
     "output_type": "display_data"
    }
   ],
   "source": [
    "from IPython.core.display import display, HTML\n",
    "display(HTML(\"<style>.container { width:100% !important; }</style>\"))\n"
   ]
  },
  {
   "cell_type": "code",
   "execution_count": 32,
   "metadata": {},
   "outputs": [],
   "source": [
    "import csv, os"
   ]
  },
  {
   "cell_type": "code",
   "execution_count": 33,
   "metadata": {},
   "outputs": [],
   "source": [
    "#Example 1: shopping list to html\n",
    "def gen_html(shopping_list, html_path):\n",
    "    f = open(html_path, \"w\")\n",
    "    f.write(\"<ul>\\n\")\n",
    "    for item in shopping_list:\n",
    "        f.write(\"<li>\" + str(item) + \"\\n\")\n",
    "    f.write(\"</ul>\\n\")\n",
    "    f.close()\n",
    "    \n",
    "gen_html([\"apples\", \"oranges\", \"milk\", \"banana\"], \"shopping.html\")"
   ]
  },
  {
   "cell_type": "code",
   "execution_count": 34,
   "metadata": {},
   "outputs": [],
   "source": [
    "#Example 2: Amazon reviews to html\n",
    "\n",
    "def csv_to_html(csv_path, html_path):\n",
    "    f = open(csv_path)\n",
    "    reviews_file = open(\"reviews.html\", \"w\")\n",
    "    reader = csv.DictReader(f)\n",
    "    for row in reader:\n",
    "        rid = row[\"review id\"]\n",
    "        title = row[\"review title\"]\n",
    "        text = row[\"review text\"]\n",
    "\n",
    "        # STEP 1: generate the <rid>.html for each review inside data folder\n",
    "        review_path = os.path.join(\"data\", str(rid) + \".html\")\n",
    "        html_file = open(review_path, \"w\")\n",
    "        html_file.write(\"<h1>\" + title + \"</h1>\" + text)\n",
    "        html_file.close()\n",
    "    \n",
    "        # STEP 2: generate a reviews.html file which has link to each review html page <rid>.html\n",
    "        reviews_file.write('<a href = \"{}\">{}</a>'.format(review_path, str(rid) + \":\" + str(title)) + \"<br>\")\n",
    "    \n",
    "    reviews_file.close()    \n",
    "    f.close()\n",
    "    \n",
    "csv_to_html(os.path.join(\"data\", \"review1.csv\"), \"reviews.html\")"
   ]
  },
  {
   "cell_type": "code",
   "execution_count": null,
   "metadata": {},
   "outputs": [],
   "source": []
  }
 ],
 "metadata": {
  "kernelspec": {
   "display_name": "Python 3",
   "language": "python",
   "name": "python3"
  },
  "language_info": {
   "codemirror_mode": {
    "name": "ipython",
    "version": 3
   },
   "file_extension": ".py",
   "mimetype": "text/x-python",
   "name": "python",
   "nbconvert_exporter": "python",
   "pygments_lexer": "ipython3",
   "version": "3.7.3"
  }
 },
 "nbformat": 4,
 "nbformat_minor": 2
}
